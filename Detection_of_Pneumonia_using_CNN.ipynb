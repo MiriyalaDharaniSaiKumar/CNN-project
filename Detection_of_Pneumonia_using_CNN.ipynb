{
  "nbformat": 4,
  "nbformat_minor": 0,
  "metadata": {
    "colab": {
      "name": "Detection of Pneumonia using CNN.ipynb",
      "provenance": [],
      "mount_file_id": "1ebHcQGYvZ56MNAY9wvJ0DAxdHAQKKPlg",
      "authorship_tag": "ABX9TyOGISx2DINu9FoxvIqMPz01",
      "include_colab_link": true
    },
    "kernelspec": {
      "name": "python3",
      "display_name": "Python 3"
    }
  },
  "cells": [
    {
      "cell_type": "markdown",
      "metadata": {
        "id": "view-in-github",
        "colab_type": "text"
      },
      "source": [
        "<a href=\"https://colab.research.google.com/github/MiriyalaDharaniSaiKumar/CNN-project/blob/master/Detection_of_Pneumonia_using_CNN.ipynb\" target=\"_parent\"><img src=\"https://colab.research.google.com/assets/colab-badge.svg\" alt=\"Open In Colab\"/></a>"
      ]
    },
    {
      "cell_type": "code",
      "metadata": {
        "id": "sCV30xyVhFbE",
        "colab_type": "code",
        "colab": {}
      },
      "source": [
        "import tensorflow as tf\n",
        "from keras.preprocessing.image import ImageDataGenerator"
      ],
      "execution_count": null,
      "outputs": []
    },
    {
      "cell_type": "code",
      "metadata": {
        "id": "1qdYD8MASZs-",
        "colab_type": "code",
        "colab": {
          "base_uri": "https://localhost:8080/",
          "height": 35
        },
        "outputId": "28402cc6-df67-493e-8e6a-bceaf8e896e3"
      },
      "source": [
        "tf.__version__"
      ],
      "execution_count": null,
      "outputs": [
        {
          "output_type": "execute_result",
          "data": {
            "application/vnd.google.colaboratory.intrinsic": {
              "type": "string"
            },
            "text/plain": [
              "'2.2.0'"
            ]
          },
          "metadata": {
            "tags": []
          },
          "execution_count": 9
        }
      ]
    },
    {
      "cell_type": "code",
      "metadata": {
        "id": "0koUcJMJpEBD",
        "colab_type": "code",
        "colab": {
          "base_uri": "https://localhost:8080/",
          "height": 35
        },
        "outputId": "11cf4e46-e9a3-4fb2-bdf2-175282b0520a"
      },
      "source": [
        "train_datagen = ImageDataGenerator(rescale = 1./255,\n",
        "                                   shear_range = 0.2,\n",
        "                                   zoom_range = 0.2,\n",
        "                                   horizontal_flip = True)\n",
        "training_set = train_datagen.flow_from_directory('/content/drive/My Drive/pneum/chest_xray/train',\n",
        "                                                 target_size = (64, 64),\n",
        "                                                 batch_size = 32,\n",
        "                                                 class_mode = 'binary')"
      ],
      "execution_count": null,
      "outputs": [
        {
          "output_type": "stream",
          "text": [
            "Found 5216 images belonging to 2 classes.\n"
          ],
          "name": "stdout"
        }
      ]
    },
    {
      "cell_type": "code",
      "metadata": {
        "id": "QO1NaVy7TBf5",
        "colab_type": "code",
        "colab": {
          "base_uri": "https://localhost:8080/",
          "height": 35
        },
        "outputId": "2203e978-f38b-47c0-d4f5-928a23c1d939"
      },
      "source": [
        "test_datagen = ImageDataGenerator(rescale = 1./255)\n",
        "test_set = test_datagen.flow_from_directory('/content/drive/My Drive/pneum/chest_xray/test',\n",
        "                                            target_size = (64, 64),\n",
        "                                            batch_size = 32,\n",
        "                                            class_mode = 'binary')"
      ],
      "execution_count": null,
      "outputs": [
        {
          "output_type": "stream",
          "text": [
            "Found 624 images belonging to 2 classes.\n"
          ],
          "name": "stdout"
        }
      ]
    },
    {
      "cell_type": "code",
      "metadata": {
        "id": "yx5Ppx2MTRBQ",
        "colab_type": "code",
        "colab": {}
      },
      "source": [
        "cnn = tf.keras.models.Sequential()"
      ],
      "execution_count": null,
      "outputs": []
    },
    {
      "cell_type": "code",
      "metadata": {
        "id": "7wlFHhnHTUsy",
        "colab_type": "code",
        "colab": {}
      },
      "source": [
        "cnn.add(tf.keras.layers.Conv2D(filters=32, kernel_size=3, activation='relu', input_shape=[64, 64, 3]))\n",
        "cnn.add(tf.keras.layers.MaxPool2D(pool_size=2, strides=2))\n",
        "cnn.add(tf.keras.layers.Conv2D(filters=32, kernel_size=3, activation='relu'))\n",
        "cnn.add(tf.keras.layers.MaxPool2D(pool_size=2, strides=2))\n",
        "cnn.add(tf.keras.layers.Flatten())\n",
        "cnn.add(tf.keras.layers.Dense(units=128, activation='relu'))\n",
        "cnn.add(tf.keras.layers.Dense(units=1, activation='sigmoid'))"
      ],
      "execution_count": null,
      "outputs": []
    },
    {
      "cell_type": "code",
      "metadata": {
        "id": "jIHeUnIPTk4V",
        "colab_type": "code",
        "colab": {
          "base_uri": "https://localhost:8080/",
          "height": 400
        },
        "outputId": "9829c04e-95f6-409d-8e06-dd199ceb9327"
      },
      "source": [
        "cnn.compile(optimizer = 'adam', loss = 'binary_crossentropy', metrics = ['accuracy'])\n",
        "cnn.fit(x = training_set, validation_data = test_set, epochs = 10)"
      ],
      "execution_count": null,
      "outputs": [
        {
          "output_type": "stream",
          "text": [
            "Epoch 1/10\n",
            "163/163 [==============================] - 100s 614ms/step - loss: 0.1974 - accuracy: 0.9212 - val_loss: 0.5210 - val_accuracy: 0.7596\n",
            "Epoch 2/10\n",
            "163/163 [==============================] - 97s 596ms/step - loss: 0.1943 - accuracy: 0.9252 - val_loss: 0.2398 - val_accuracy: 0.8958\n",
            "Epoch 3/10\n",
            "163/163 [==============================] - 98s 600ms/step - loss: 0.1802 - accuracy: 0.9287 - val_loss: 0.3222 - val_accuracy: 0.8654\n",
            "Epoch 4/10\n",
            "163/163 [==============================] - 98s 599ms/step - loss: 0.1764 - accuracy: 0.9348 - val_loss: 0.3074 - val_accuracy: 0.8862\n",
            "Epoch 5/10\n",
            "163/163 [==============================] - 97s 596ms/step - loss: 0.1633 - accuracy: 0.9379 - val_loss: 0.2757 - val_accuracy: 0.9103\n",
            "Epoch 6/10\n",
            "163/163 [==============================] - 98s 602ms/step - loss: 0.1517 - accuracy: 0.9419 - val_loss: 0.3174 - val_accuracy: 0.8910\n",
            "Epoch 7/10\n",
            "163/163 [==============================] - 102s 623ms/step - loss: 0.1513 - accuracy: 0.9456 - val_loss: 0.3187 - val_accuracy: 0.9022\n",
            "Epoch 8/10\n",
            "163/163 [==============================] - 97s 597ms/step - loss: 0.1535 - accuracy: 0.9396 - val_loss: 0.3383 - val_accuracy: 0.8926\n",
            "Epoch 9/10\n",
            "163/163 [==============================] - 97s 595ms/step - loss: 0.1377 - accuracy: 0.9486 - val_loss: 0.5336 - val_accuracy: 0.8413\n",
            "Epoch 10/10\n",
            "163/163 [==============================] - 99s 604ms/step - loss: 0.1327 - accuracy: 0.9482 - val_loss: 0.3939 - val_accuracy: 0.8670\n"
          ],
          "name": "stdout"
        },
        {
          "output_type": "execute_result",
          "data": {
            "text/plain": [
              "<tensorflow.python.keras.callbacks.History at 0x7f57848396d8>"
            ]
          },
          "metadata": {
            "tags": []
          },
          "execution_count": 52
        }
      ]
    },
    {
      "cell_type": "code",
      "metadata": {
        "id": "WLHHwxyleWeS",
        "colab_type": "code",
        "colab": {}
      },
      "source": [
        "import numpy as np\n",
        "from keras.preprocessing import image\n",
        "test_image = image.load_img('/content/drive/My Drive/pneum/chest_xray/test/NORMAL/NORMAL2-IM-0206-0001.jpeg', target_size = (64, 64))\n",
        "test_image = image.img_to_array(test_image)\n",
        "test_image = np.expand_dims(test_image, axis = 0)\n",
        "result = cnn.predict(test_image)\n",
        "training_set.class_indices\n",
        "if result[0][0] == 1:\n",
        "  prediction = 'Pneumonia'\n",
        "else:\n",
        "  prediction = 'Normal'"
      ],
      "execution_count": null,
      "outputs": []
    },
    {
      "cell_type": "code",
      "metadata": {
        "id": "DQ6nppXoezyP",
        "colab_type": "code",
        "colab": {
          "base_uri": "https://localhost:8080/",
          "height": 35
        },
        "outputId": "8b27593e-01ff-44f6-e4a6-7fe17a05aabc"
      },
      "source": [
        "print(prediction)"
      ],
      "execution_count": null,
      "outputs": [
        {
          "output_type": "stream",
          "text": [
            "Pneumonia\n"
          ],
          "name": "stdout"
        }
      ]
    }
  ]
}